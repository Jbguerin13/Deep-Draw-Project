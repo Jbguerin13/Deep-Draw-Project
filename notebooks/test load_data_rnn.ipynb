{
 "cells": [
  {
   "cell_type": "code",
   "execution_count": 36,
   "id": "1d70a116",
   "metadata": {},
   "outputs": [],
   "source": [
    "import glob\n",
    "import os\n",
    "import numpy as np"
   ]
  },
  {
   "cell_type": "markdown",
   "id": "79984145",
   "metadata": {},
   "source": [
    "loading data n/\n",
    "try imdb load data"
   ]
  },
  {
   "cell_type": "code",
   "execution_count": 40,
   "id": "35be334e",
   "metadata": {},
   "outputs": [],
   "source": [
    "#cat_file = os.path.join(\"/Users/jean-baptiste/code/Sythak/deepdraw/notebooks/ndjson_simplified\", 'full_simplified_cat.ndjson')"
   ]
  },
  {
   "cell_type": "code",
   "execution_count": 42,
   "id": "6647c02e",
   "metadata": {},
   "outputs": [
    {
     "ename": "FileNotFoundError",
     "evalue": "[Errno 2] No such file or directory: './cat.ndjson'",
     "output_type": "error",
     "traceback": [
      "\u001b[0;31m---------------------------------------------------------------------------\u001b[0m",
      "\u001b[0;31mFileNotFoundError\u001b[0m                         Traceback (most recent call last)",
      "Cell \u001b[0;32mIn[42], line 2\u001b[0m\n\u001b[1;32m      1\u001b[0m \u001b[38;5;66;03m#cat1 = np.load(cat_file)\u001b[39;00m\n\u001b[0;32m----> 2\u001b[0m \u001b[38;5;28;01mwith\u001b[39;00m \u001b[38;5;28;43mopen\u001b[39;49m\u001b[43m(\u001b[49m\u001b[38;5;124;43m'\u001b[39;49m\u001b[38;5;124;43m./cat.ndjson\u001b[39;49m\u001b[38;5;124;43m'\u001b[39;49m\u001b[43m,\u001b[49m\u001b[43m \u001b[49m\u001b[38;5;124;43m'\u001b[39;49m\u001b[38;5;124;43mr\u001b[39;49m\u001b[38;5;124;43m'\u001b[39;49m\u001b[43m)\u001b[49m \u001b[38;5;28;01mas\u001b[39;00m cats_ndjson_file :\n\u001b[1;32m      3\u001b[0m     cats_simp_ndjson_lines \u001b[38;5;241m=\u001b[39m cats_ndjson_file\u001b[38;5;241m.\u001b[39mreadlines()\n",
      "File \u001b[0;32m~/.pyenv/versions/deepdraw/lib/python3.10/site-packages/IPython/core/interactiveshell.py:282\u001b[0m, in \u001b[0;36m_modified_open\u001b[0;34m(file, *args, **kwargs)\u001b[0m\n\u001b[1;32m    275\u001b[0m \u001b[38;5;28;01mif\u001b[39;00m file \u001b[38;5;129;01min\u001b[39;00m {\u001b[38;5;241m0\u001b[39m, \u001b[38;5;241m1\u001b[39m, \u001b[38;5;241m2\u001b[39m}:\n\u001b[1;32m    276\u001b[0m     \u001b[38;5;28;01mraise\u001b[39;00m \u001b[38;5;167;01mValueError\u001b[39;00m(\n\u001b[1;32m    277\u001b[0m         \u001b[38;5;124mf\u001b[39m\u001b[38;5;124m\"\u001b[39m\u001b[38;5;124mIPython won\u001b[39m\u001b[38;5;124m'\u001b[39m\u001b[38;5;124mt let you open fd=\u001b[39m\u001b[38;5;132;01m{\u001b[39;00mfile\u001b[38;5;132;01m}\u001b[39;00m\u001b[38;5;124m by default \u001b[39m\u001b[38;5;124m\"\u001b[39m\n\u001b[1;32m    278\u001b[0m         \u001b[38;5;124m\"\u001b[39m\u001b[38;5;124mas it is likely to crash IPython. If you know what you are doing, \u001b[39m\u001b[38;5;124m\"\u001b[39m\n\u001b[1;32m    279\u001b[0m         \u001b[38;5;124m\"\u001b[39m\u001b[38;5;124myou can use builtins\u001b[39m\u001b[38;5;124m'\u001b[39m\u001b[38;5;124m open.\u001b[39m\u001b[38;5;124m\"\u001b[39m\n\u001b[1;32m    280\u001b[0m     )\n\u001b[0;32m--> 282\u001b[0m \u001b[38;5;28;01mreturn\u001b[39;00m \u001b[43mio_open\u001b[49m\u001b[43m(\u001b[49m\u001b[43mfile\u001b[49m\u001b[43m,\u001b[49m\u001b[43m \u001b[49m\u001b[38;5;241;43m*\u001b[39;49m\u001b[43margs\u001b[49m\u001b[43m,\u001b[49m\u001b[43m \u001b[49m\u001b[38;5;241;43m*\u001b[39;49m\u001b[38;5;241;43m*\u001b[39;49m\u001b[43mkwargs\u001b[49m\u001b[43m)\u001b[49m\n",
      "\u001b[0;31mFileNotFoundError\u001b[0m: [Errno 2] No such file or directory: './cat.ndjson'"
     ]
    }
   ],
   "source": [
    "#cat1 = np.load(cat_file)\n",
    "with open('./cat.ndjson', 'r') as cats_ndjson_file :\n",
    "    cats_simp_ndjson_lines = cats_ndjson_file.readlines()"
   ]
  },
  {
   "cell_type": "code",
   "execution_count": 24,
   "id": "c7c1d0a0",
   "metadata": {},
   "outputs": [
    {
     "data": {
      "text/plain": [
       "{'word': 'cat',\n",
       " 'countrycode': 'VE',\n",
       " 'timestamp': '2017-03-02 23:25:10.07453 UTC',\n",
       " 'recognized': True,\n",
       " 'key_id': '5201136883597312',\n",
       " 'drawing': [[[130,\n",
       "    113,\n",
       "    99,\n",
       "    109,\n",
       "    76,\n",
       "    64,\n",
       "    55,\n",
       "    48,\n",
       "    48,\n",
       "    51,\n",
       "    59,\n",
       "    86,\n",
       "    133,\n",
       "    154,\n",
       "    170,\n",
       "    203,\n",
       "    214,\n",
       "    217,\n",
       "    215,\n",
       "    208,\n",
       "    186,\n",
       "    176,\n",
       "    162,\n",
       "    157,\n",
       "    132],\n",
       "   [72,\n",
       "    40,\n",
       "    27,\n",
       "    79,\n",
       "    82,\n",
       "    88,\n",
       "    100,\n",
       "    120,\n",
       "    134,\n",
       "    152,\n",
       "    165,\n",
       "    184,\n",
       "    189,\n",
       "    186,\n",
       "    179,\n",
       "    152,\n",
       "    131,\n",
       "    114,\n",
       "    100,\n",
       "    89,\n",
       "    76,\n",
       "    0,\n",
       "    31,\n",
       "    65,\n",
       "    70]],\n",
       "  [[76, 28, 7], [136, 128, 128]],\n",
       "  [[76, 23, 0], [160, 164, 175]],\n",
       "  [[87, 52, 37], [175, 191, 204]],\n",
       "  [[174, 220, 246, 251], [134, 132, 136, 139]],\n",
       "  [[175, 255], [147, 168]],\n",
       "  [[171, 208, 215], [164, 198, 210]],\n",
       "  [[130, 110, 108, 111, 130, 139, 139, 119],\n",
       "   [129, 134, 137, 144, 148, 144, 136, 130]],\n",
       "  [[107, 106], [96, 113]]]}"
      ]
     },
     "execution_count": 24,
     "metadata": {},
     "output_type": "execute_result"
    }
   ],
   "source": [
    "cat1"
   ]
  },
  {
   "cell_type": "markdown",
   "id": "9a674d07",
   "metadata": {},
   "source": [
    "define X, y"
   ]
  },
  {
   "cell_type": "code",
   "execution_count": 43,
   "id": "90be41f3",
   "metadata": {},
   "outputs": [
    {
     "name": "stdout",
     "output_type": "stream",
     "text": [
      "cat1['word'] = cat\n",
      "\n",
      "cat1['key_id'] = 5201136883597312\n",
      "\n",
      "cat1['drawing'] = [[[130, 113, 99, 109, 76, 64, 55, 48, 48, 51, 59, 86, 133, 154, 170, 203, 214, 217, 215, 208, 186, 176, 162, 157, 132], [72, 40, 27, 79, 82, 88, 100, 120, 134, 152, 165, 184, 189, 186, 179, 152, 131, 114, 100, 89, 76, 0, 31, 65, 70]], [[76, 28, 7], [136, 128, 128]], [[76, 23, 0], [160, 164, 175]], [[87, 52, 37], [175, 191, 204]], [[174, 220, 246, 251], [134, 132, 136, 139]], [[175, 255], [147, 168]], [[171, 208, 215], [164, 198, 210]], [[130, 110, 108, 111, 130, 139, 139, 119], [129, 134, 137, 144, 148, 144, 136, 130]], [[107, 106], [96, 113]]]\n",
      "\n"
     ]
    }
   ],
   "source": [
    "unwanted = set(cat1) - set(['word', 'key_id', 'drawing'])\n",
    "for unwanted_key in unwanted: del cat1[unwanted_key]\n",
    "for key in ['word', 'key_id', 'drawing']:\n",
    "    print(f\"cat1['{key}'] = {cat1[key]}\", end='\\n\\n')"
   ]
  },
  {
   "cell_type": "markdown",
   "id": "5f314e75",
   "metadata": {},
   "source": [
    "Encoding raw --> lines"
   ]
  },
  {
   "cell_type": "code",
   "execution_count": null,
   "id": "f13c48a8",
   "metadata": {},
   "outputs": [],
   "source": [
    "def raw_to_lines(raw):\n",
    "    \"\"\"Convert QuickDraw raw format into polyline format.\"\"\"\n",
    "    result = []\n",
    "    N = len(raw)\n",
    "    for i in range(N):\n",
    "        line = []\n",
    "        rawline = raw[i]\n",
    "        M = len(rawline[0])\n",
    "        #if M <= 2:\n",
    "            #continue\n",
    "        for j in range(M):\n",
    "            line.append([rawline[0][j], rawline[1][j]]) \n",
    "        result.append(line)\n",
    "    return result\n",
    "\n",
    "cat1_lines = raw_to_lines(cat1['drawing'])\n",
    "cat1_lines"
   ]
  },
  {
   "cell_type": "markdown",
   "id": "b01e5377",
   "metadata": {},
   "source": [
    "Encoding lines --> strokes_3"
   ]
  },
  {
   "cell_type": "code",
   "execution_count": null,
   "id": "3f7fbc56",
   "metadata": {},
   "outputs": [],
   "source": [
    "def lines_to_strokes(lines, delta=True):\n",
    "    \"\"\"Convert polyline format to stroke-3 format. x-offset, y-offset is optional.\"\"\"\n",
    "    eos = 0\n",
    "    strokes = [[0, 0, 0]]\n",
    "    for line in lines:\n",
    "        linelen = len(line)\n",
    "        for i in range(linelen):\n",
    "            eos = 0 if i < linelen - 1 else 1\n",
    "            strokes.append([line[i][0], line[i][1], eos])\n",
    "    strokes = np.array(strokes)\n",
    "    if delta :\n",
    "        strokes[1:, 0:2] -= strokes[:-1, 0:2] # Compute deltas\n",
    "    return strokes[1:, :] # Trunc the first point\n",
    "\n",
    "cat1_strokes_3 = lines_to_strokes(cat1_lines, delta=True)\n",
    "cat1_strokes_3"
   ]
  },
  {
   "cell_type": "code",
   "execution_count": null,
   "id": "5ba1f0fa",
   "metadata": {},
   "outputs": [],
   "source": []
  }
 ],
 "metadata": {
  "kernelspec": {
   "display_name": "Python 3 (ipykernel)",
   "language": "python",
   "name": "python3"
  },
  "language_info": {
   "codemirror_mode": {
    "name": "ipython",
    "version": 3
   },
   "file_extension": ".py",
   "mimetype": "text/x-python",
   "name": "python",
   "nbconvert_exporter": "python",
   "pygments_lexer": "ipython3",
   "version": "3.10.6"
  },
  "toc": {
   "base_numbering": 1,
   "nav_menu": {},
   "number_sections": true,
   "sideBar": true,
   "skip_h1_title": false,
   "title_cell": "Table of Contents",
   "title_sidebar": "Contents",
   "toc_cell": false,
   "toc_position": {},
   "toc_section_display": true,
   "toc_window_display": false
  }
 },
 "nbformat": 4,
 "nbformat_minor": 5
}
